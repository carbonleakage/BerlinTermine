{
 "cells": [
  {
   "cell_type": "code",
   "execution_count": 2,
   "metadata": {},
   "outputs": [],
   "source": [
    "import requests\n",
    "from bs4 import BeautifulSoup"
   ]
  },
  {
   "cell_type": "code",
   "execution_count": 61,
   "metadata": {},
   "outputs": [],
   "source": [
    "response = requests.get(\"https://service.berlin.de/terminvereinbarung/termin/tag.php?id=3061&anliegen[]=120691#&termin=1&dienstleister=327437&anliegen[]=120691&herkunft=1\")"
   ]
  },
  {
   "cell_type": "code",
   "execution_count": 68,
   "metadata": {},
   "outputs": [],
   "source": [
    "soup = BeautifulSoup(response.text)"
   ]
  },
  {
   "cell_type": "code",
   "execution_count": 74,
   "metadata": {},
   "outputs": [
    {
     "data": {
      "text/plain": [
       "[<td class=\"nichtbuchbar\">15</td>,\n",
       " <td class=\"nichtbuchbar\">16</td>,\n",
       " <td class=\"nichtbuchbar\">17</td>,\n",
       " <td class=\"nichtbuchbar\">18</td>,\n",
       " <td class=\"nichtbuchbar\">21</td>,\n",
       " <td class=\"nichtbuchbar\">22</td>,\n",
       " <td class=\"nichtbuchbar\">24</td>,\n",
       " <td class=\"nichtbuchbar\">25</td>,\n",
       " <td class=\"nichtbuchbar\">28</td>,\n",
       " <td class=\"nichtbuchbar\">29</td>,\n",
       " <td class=\"nichtbuchbar\">31</td>,\n",
       " <td class=\"nichtbuchbar\">04</td>,\n",
       " <td class=\"nichtbuchbar\">05</td>,\n",
       " <td class=\"nichtbuchbar\">07</td>,\n",
       " <td class=\"nichtbuchbar\">08</td>,\n",
       " <td class=\"nichtbuchbar\">11</td>,\n",
       " <td class=\"nichtbuchbar\">12</td>,\n",
       " <td class=\"nichtbuchbar\">19</td>,\n",
       " <td class=\"nichtbuchbar\">21</td>,\n",
       " <td class=\"nichtbuchbar\">22</td>,\n",
       " <td class=\"nichtbuchbar\">25</td>,\n",
       " <td class=\"nichtbuchbar\">26</td>,\n",
       " <td class=\"nichtbuchbar\">28</td>,\n",
       " <td class=\"nichtbuchbar\">29</td>]"
      ]
     },
     "execution_count": 74,
     "metadata": {},
     "output_type": "execute_result"
    }
   ],
   "source": [
    "soup.find_all(\"td\",class_='nichtbuchbar')"
   ]
  },
  {
   "cell_type": "code",
   "execution_count": 75,
   "metadata": {},
   "outputs": [
    {
     "data": {
      "text/plain": [
       "[]"
      ]
     },
     "execution_count": 75,
     "metadata": {},
     "output_type": "execute_result"
    }
   ],
   "source": [
    "soup.find_all(\"td\",class_='buchbar')"
   ]
  },
  {
   "cell_type": "code",
   "execution_count": 77,
   "metadata": {},
   "outputs": [],
   "source": [
    "tables = soup.find_all(\"table\")"
   ]
  },
  {
   "cell_type": "code",
   "execution_count": 81,
   "metadata": {},
   "outputs": [
    {
     "name": "stdout",
     "output_type": "stream",
     "text": [
      "März 2022\n",
      "[<td colspan=\"1\"></td>, <td class=\"\">01</td>, <td class=\"\">02</td>, <td class=\"\">03</td>, <td class=\"\">04</td>, <td class=\"\">05</td>, <td class=\"\">06</td>, <td class=\"\">07</td>, <td class=\"\">08</td>, <td class=\"\">09</td>, <td class=\"\">10</td>, <td class=\"\">11</td>, <td class=\"\">12</td>, <td class=\"\">13</td>, <td class=\"heutemarkierung\">14</td>, <td class=\"nichtbuchbar\">15</td>, <td class=\"nichtbuchbar\">16</td>, <td class=\"nichtbuchbar\">17</td>, <td class=\"nichtbuchbar\">18</td>, <td class=\"\">19</td>, <td class=\"\">20</td>, <td class=\"nichtbuchbar\">21</td>, <td class=\"nichtbuchbar\">22</td>, <td class=\"\">23</td>, <td class=\"nichtbuchbar\">24</td>, <td class=\"nichtbuchbar\">25</td>, <td class=\"\">26</td>, <td class=\"\">27</td>, <td class=\"nichtbuchbar\">28</td>, <td class=\"nichtbuchbar\">29</td>, <td class=\"\">30</td>, <td class=\"nichtbuchbar\">31</td>, <td colspan=\"3\"> </td>]\n",
      "[<td class=\"nichtbuchbar\">15</td>, <td class=\"nichtbuchbar\">16</td>, <td class=\"nichtbuchbar\">17</td>, <td class=\"nichtbuchbar\">18</td>, <td class=\"nichtbuchbar\">21</td>, <td class=\"nichtbuchbar\">22</td>, <td class=\"nichtbuchbar\">24</td>, <td class=\"nichtbuchbar\">25</td>, <td class=\"nichtbuchbar\">28</td>, <td class=\"nichtbuchbar\">29</td>, <td class=\"nichtbuchbar\">31</td>]\n",
      "April 2022\n",
      "[<td colspan=\"4\"></td>, <td class=\"\">01</td>, <td class=\"\">02</td>, <td class=\"\">03</td>, <td class=\"nichtbuchbar\">04</td>, <td class=\"nichtbuchbar\">05</td>, <td class=\"\">06</td>, <td class=\"nichtbuchbar\">07</td>, <td class=\"nichtbuchbar\">08</td>, <td class=\"\">09</td>, <td class=\"\">10</td>, <td class=\"nichtbuchbar\">11</td>, <td class=\"nichtbuchbar\">12</td>, <td class=\"\">13</td>, <td class=\"\">14</td>, <td class=\"\">15</td>, <td class=\"\">16</td>, <td class=\"\">17</td>, <td class=\"\">18</td>, <td class=\"nichtbuchbar\">19</td>, <td class=\"\">20</td>, <td class=\"nichtbuchbar\">21</td>, <td class=\"nichtbuchbar\">22</td>, <td class=\"\">23</td>, <td class=\"\">24</td>, <td class=\"nichtbuchbar\">25</td>, <td class=\"nichtbuchbar\">26</td>, <td class=\"\">27</td>, <td class=\"nichtbuchbar\">28</td>, <td class=\"nichtbuchbar\">29</td>, <td class=\"\">30</td>, <td colspan=\"1\"> </td>]\n",
      "[<td class=\"nichtbuchbar\">04</td>, <td class=\"nichtbuchbar\">05</td>, <td class=\"nichtbuchbar\">07</td>, <td class=\"nichtbuchbar\">08</td>, <td class=\"nichtbuchbar\">11</td>, <td class=\"nichtbuchbar\">12</td>, <td class=\"nichtbuchbar\">19</td>, <td class=\"nichtbuchbar\">21</td>, <td class=\"nichtbuchbar\">22</td>, <td class=\"nichtbuchbar\">25</td>, <td class=\"nichtbuchbar\">26</td>, <td class=\"nichtbuchbar\">28</td>, <td class=\"nichtbuchbar\">29</td>]\n"
     ]
    }
   ],
   "source": [
    "for table in tables:\n",
    "    month = table.find(class_ = \"month\")\n",
    "    dates = table.find_all(\"td\")\n",
    "    dates_notbookable = table.find_all(\"td\", class_= 'nichtbuchbar')\n",
    "    dates_bookable = table.find_all(\"td\", class_ = \"buchbar\")\n",
    "    print(month.text)\n",
    "    print(dates)\n",
    "    print(dates_notbookable)"
   ]
  },
  {
   "cell_type": "code",
   "execution_count": 88,
   "metadata": {},
   "outputs": [],
   "source": [
    "next = soup.find(\"th\", class_=\"next\").find(\"a\", href=True)"
   ]
  },
  {
   "cell_type": "code",
   "execution_count": 90,
   "metadata": {},
   "outputs": [
    {
     "name": "stdout",
     "output_type": "stream",
     "text": [
      "/terminvereinbarung/termin/day/1648764000/\n"
     ]
    }
   ],
   "source": [
    "print(next[\"href\"])"
   ]
  },
  {
   "cell_type": "code",
   "execution_count": null,
   "metadata": {},
   "outputs": [],
   "source": []
  }
 ],
 "metadata": {
  "interpreter": {
   "hash": "5bcbfb2fca690d0429cb298d87b5ab2c15b484e5440367f2f59eec465a754f13"
  },
  "kernelspec": {
   "display_name": "Python 3.8.12 ('base')",
   "language": "python",
   "name": "python3"
  },
  "language_info": {
   "codemirror_mode": {
    "name": "ipython",
    "version": 3
   },
   "file_extension": ".py",
   "mimetype": "text/x-python",
   "name": "python",
   "nbconvert_exporter": "python",
   "pygments_lexer": "ipython3",
   "version": "3.8.12"
  },
  "orig_nbformat": 4
 },
 "nbformat": 4,
 "nbformat_minor": 2
}
